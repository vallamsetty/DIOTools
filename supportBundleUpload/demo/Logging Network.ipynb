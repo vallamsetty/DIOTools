{
 "cells": [
  {
   "cell_type": "markdown",
   "metadata": {},
   "source": [
    "The `LoggingNetwork` network layer is a great tool for debugging your Python SDK applications, or just quickly making requests to the Box Content API."
   ]
  },
  {
   "cell_type": "code",
   "execution_count": 1,
   "metadata": {
    "collapsed": true
   },
   "outputs": [],
   "source": [
    "from boxsdk import Client, OAuth2\n",
    "from boxsdk.network.logging_network import LoggingNetwork"
   ]
  },
  {
   "cell_type": "code",
   "execution_count": 2,
   "metadata": {
    "collapsed": true
   },
   "outputs": [],
   "source": [
    "import logging\n",
    "root_logger = logging.getLogger()\n",
    "for handler in root_logger.handlers:\n",
    "    root_logger.removeHandler(handler)"
   ]
  },
  {
   "cell_type": "code",
   "execution_count": 3,
   "metadata": {
    "collapsed": true
   },
   "outputs": [],
   "source": [
    "# Create a new instance of the logging network to be used for auth and API requests\n",
    "logging_network = LoggingNetwork()\n",
    "# Create an auth object that uses a developer token\n",
    "DEV_TOKEN = 'g3T46nWfprIRhuHyjfD5LBldwkFEG1RP'\n",
    "auth = OAuth2(client_id=None, client_secret=None, access_token=DEV_TOKEN)\n",
    "# Create an API client that uses the logging network layer\n",
    "client = Client(auth, network_layer=logging_network)"
   ]
  },
  {
   "cell_type": "code",
   "execution_count": 4,
   "metadata": {
    "collapsed": false
   },
   "outputs": [
    {
     "name": "stdout",
     "output_type": "stream",
     "text": [
      "\u001b[36mGET https://api.box.com/2.0/users/me {'headers': {u'Authorization': u'Bearer g3T46nWfprIRhuHyjfD5LBldwkFEG1RP'},\n",
      " 'params': None}\u001b[0m\n",
      "\u001b[32m{\"type\":\"user\",\"id\":\"202476009\",\"name\":\"Jeffrey Meadows\",\"login\":\"jmeadows@box.com\",\"created_at\":\"2013-09-09T14:35:35-07:00\",\"modified_at\":\"2015-12-07T21:49:14-08:00\",\"language\":\"en\",\"timezone\":\"America\\/Los_Angeles\",\"space_amount\":1.0e+15,\"space_used\":28861619684,\"max_upload_size\":16106127360,\"status\":\"active\",\"job_title\":\"\",\"phone\":\"\",\"address\":\"\",\"avatar_url\":\"https:\\/\\/cloud.app.box.com\\/api\\/avatar\\/large\\/202476009\"}\u001b[0m\n"
     ]
    }
   ],
   "source": [
    "# Make an API call to get the current user\n",
    "me = client.user('me').get()"
   ]
  },
  {
   "cell_type": "code",
   "execution_count": 6,
   "metadata": {
    "collapsed": false
   },
   "outputs": [
    {
     "name": "stdout",
     "output_type": "stream",
     "text": [
      "\u001b[36mGET https://api.box.com/2.0/files/404 {'headers': {u'Authorization': u'Bearer g3T46nWfprIRhuHyjfD5LBldwkFEG1RP'},\n",
      " 'params': None}\u001b[0m\n",
      "\u001b[31m404\n",
      "{'Content-Length': '234', 'Content-Encoding': 'gzip', 'Age': '0', 'Vary': 'Accept-Encoding', 'Server': 'ATS', 'Connection': 'keep-alive', 'Cache-Control': 'no-cache, no-store', 'Date': 'Tue, 08 Dec 2015 19:18:34 GMT', 'Content-Type': 'application/json'}\n",
      "'{\"type\":\"error\",\"status\":404,\"code\":\"not_found\",\"context_info\":{\"errors\":[{\"reason\":\"invalid_parameter\",\"name\":\"item\",\"message\":\"Invalid value \\'f_404\\'. \\'item\\' with value \\'f_404\\' not found\"}]},\"help_url\":\"http:\\\\/\\\\/developers.box.com\\\\/docs\\\\/#errors\",\"message\":\"Not Found\",\"request_id\":\"80397196256672d0a379ae\"}'\n",
      "\u001b[0m\n"
     ]
    }
   ],
   "source": [
    "from boxsdk.exception import BoxAPIException\n",
    "# Make an API call to get a nonexistent file\n",
    "try:\n",
    "    four_oh_four = client.file('404').get()\n",
    "except BoxAPIException:\n",
    "    pass"
   ]
  },
  {
   "cell_type": "markdown",
   "metadata": {},
   "source": [
    "**Requests** are logged in blue; **successful responses** in green, **error responses** in red."
   ]
  }
 ],
 "metadata": {
  "kernelspec": {
   "display_name": "Python 2",
   "language": "python",
   "name": "python2"
  },
  "language_info": {
   "codemirror_mode": {
    "name": "ipython",
    "version": 2
   },
   "file_extension": ".py",
   "mimetype": "text/x-python",
   "name": "python",
   "nbconvert_exporter": "python",
   "pygments_lexer": "ipython2",
   "version": "2.7.9"
  }
 },
 "nbformat": 4,
 "nbformat_minor": 0
}
