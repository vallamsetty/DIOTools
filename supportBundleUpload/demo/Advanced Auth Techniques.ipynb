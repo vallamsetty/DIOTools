{
 "cells": [
  {
   "cell_type": "markdown",
   "metadata": {},
   "source": [
    "The Python SDK tries to make it easy to make requests to the Box API.\n",
    "\n",
    "Part of the ease is the fact that the SDK handles the OAuth2 dance, including token refresh, even for multithreaded applications.\n",
    "\n",
    "New to the SDK are some OAuth2 subclasses and mixins that enable the SDK to handle auth in a variety of advanced use cases:\n",
    "* Cooperative multiprocessing - share token pairs across python processes\n",
    "* Remote auth - make API requests on a local client, but handle auth on a remote server to avoid exposing a client secret on clients\n",
    "* Distributed cooperative multiprocessing - store token pairs in Redis; share among multiple processes or machines"
   ]
  },
  {
   "cell_type": "code",
   "execution_count": 3,
   "metadata": {
    "collapsed": false
   },
   "outputs": [],
   "source": [
    "from boxsdk import Client\n",
    "from boxsdk.auth.redis_managed_oauth2 import RedisManagedOAuth2"
   ]
  },
  {
   "cell_type": "code",
   "execution_count": 1,
   "metadata": {
    "collapsed": true
   },
   "outputs": [],
   "source": [
    "# Get a client ID and secret from a text file (to avoid exposing them in the notebook)\n",
    "with open('secrets.txt') as secrets:\n",
    "    client_id = secrets.readline().strip()\n",
    "    client_secret = secrets.readline().strip()"
   ]
  },
  {
   "cell_type": "code",
   "execution_count": 5,
   "metadata": {
    "collapsed": false
   },
   "outputs": [],
   "source": [
    "# Instantiate a redis managed auth client\n",
    "auth = RedisManagedOAuth2(client_id=client_id, client_secret=client_secret)"
   ]
  },
  {
   "cell_type": "code",
   "execution_count": 10,
   "metadata": {
    "collapsed": false
   },
   "outputs": [
    {
     "data": {
      "text/plain": [
       "(u'g9katDPiv0C5DxcoDmzxxFzumMKpiH2z',\n",
       " u'pvGLrhHFdd70Ka7kPY1xxSAQ5RHAWrZBAuA4zbimV1o2Xrouvu0Ixl7iCERU7yTw')"
      ]
     },
     "execution_count": 10,
     "metadata": {},
     "output_type": "execute_result"
    }
   ],
   "source": [
    "# Authenticate the instance using an auth code (obtained manually)\n",
    "auth.authenticate(auth_code='thZWxpiTRPhJpqZRNidr1vZLsmWpHRLI')"
   ]
  },
  {
   "cell_type": "markdown",
   "metadata": {},
   "source": [
    "The auth instance automatically saves the tokens to redis.\n",
    "\n",
    "We can see the values directly in redis."
   ]
  },
  {
   "cell_type": "code",
   "execution_count": 13,
   "metadata": {
    "collapsed": false
   },
   "outputs": [
    {
     "name": "stdout",
     "output_type": "stream",
     "text": [
      "1) \"g9katDPiv0C5DxcoDmzxxFzumMKpiH2z\"\r\n",
      "2) \"pvGLrhHFdd70Ka7kPY1xxSAQ5RHAWrZBAuA4zbimV1o2Xrouvu0Ixl7iCERU7yTw\"\r\n"
     ]
    }
   ],
   "source": [
    "!redis-cli hvals {str(auth.unique_id)}"
   ]
  },
  {
   "cell_type": "code",
   "execution_count": 15,
   "metadata": {
    "collapsed": false
   },
   "outputs": [
    {
     "data": {
      "text/plain": [
       "u'g9katDPiv0C5DxcoDmzxxFzumMKpiH2z'"
      ]
     },
     "execution_count": 15,
     "metadata": {},
     "output_type": "execute_result"
    }
   ],
   "source": [
    "auth.access_token"
   ]
  },
  {
   "cell_type": "markdown",
   "metadata": {},
   "source": [
    "We can spin up another auth instance that will share tokens.\n",
    "\n",
    "We just need to use the same unique id."
   ]
  },
  {
   "cell_type": "code",
   "execution_count": 16,
   "metadata": {
    "collapsed": false
   },
   "outputs": [
    {
     "data": {
      "text/plain": [
       "'g9katDPiv0C5DxcoDmzxxFzumMKpiH2z'"
      ]
     },
     "execution_count": 16,
     "metadata": {},
     "output_type": "execute_result"
    }
   ],
   "source": [
    "auth2 = RedisManagedOAuth2(client_id=client_id, client_secret=client_secret, unique_id=auth.unique_id)\n",
    "auth2.access_token"
   ]
  },
  {
   "cell_type": "code",
   "execution_count": null,
   "metadata": {
    "collapsed": true
   },
   "outputs": [],
   "source": []
  }
 ],
 "metadata": {
  "kernelspec": {
   "display_name": "Python 2",
   "language": "python",
   "name": "python2"
  },
  "language_info": {
   "codemirror_mode": {
    "name": "ipython",
    "version": 2
   },
   "file_extension": ".py",
   "mimetype": "text/x-python",
   "name": "python",
   "nbconvert_exporter": "python",
   "pygments_lexer": "ipython2",
   "version": "2.7.9"
  }
 },
 "nbformat": 4,
 "nbformat_minor": 0
}
